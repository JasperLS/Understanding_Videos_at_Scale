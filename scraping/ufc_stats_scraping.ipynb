{
  "nbformat": 4,
  "nbformat_minor": 0,
  "metadata": {
    "kernelspec": {
      "display_name": "Python 3",
      "language": "python",
      "name": "python3"
    },
    "language_info": {
      "codemirror_mode": {
        "name": "ipython",
        "version": 3
      },
      "file_extension": ".py",
      "mimetype": "text/x-python",
      "name": "python",
      "nbconvert_exporter": "python",
      "pygments_lexer": "ipython3",
      "version": "3.7.1"
    },
    "colab": {
      "name": "ufc_stats_scraping.ipynb",
      "provenance": [],
      "collapsed_sections": [],
      "toc_visible": true,
      "include_colab_link": true
    }
  },
  "cells": [
    {
      "cell_type": "markdown",
      "metadata": {
        "id": "view-in-github",
        "colab_type": "text"
      },
      "source": [
        "<a href=\"https://colab.research.google.com/github/JasperLS/Understanding_Videos_at_Scale/blob/master/scraping/ufc_stats_scraping.ipynb\" target=\"_parent\"><img src=\"https://colab.research.google.com/assets/colab-badge.svg\" alt=\"Open In Colab\"/></a>"
      ]
    },
    {
      "cell_type": "markdown",
      "metadata": {
        "id": "_f6erk8viafe",
        "colab_type": "text"
      },
      "source": [
        "# Scrape Data\n"
      ]
    },
    {
      "cell_type": "markdown",
      "metadata": {
        "id": "5-qO-AGeiaff",
        "colab_type": "text"
      },
      "source": [
        "### General Prep"
      ]
    },
    {
      "cell_type": "code",
      "metadata": {
        "id": "r9iyWdQiiaff",
        "colab_type": "code",
        "colab": {},
        "outputId": "9230b2ad-865c-4b1a-ae3d-827ec590f879"
      },
      "source": [
        "from selenium import webdriver\n",
        "from selenium.webdriver.chrome.options import Options\n",
        "import time as time_lib\n",
        "import os\n",
        "import csv\n",
        "import pandas as pd\n",
        "import sys\n",
        "chrome_options = Options()\n",
        "chrome_options.add_argument(\"--headless\")\n",
        "import datetime\n",
        "\n",
        "browser = webdriver.Chrome(\"D:/shared/chromedriver79.exe\", options=chrome_options)\n",
        "date =str(datetime.datetime.today().strftime('%Y-%m-%d'))\n",
        "print(date)"
      ],
      "execution_count": null,
      "outputs": [
        {
          "output_type": "stream",
          "text": [
            "2020-03-16\n"
          ],
          "name": "stdout"
        }
      ]
    },
    {
      "cell_type": "code",
      "metadata": {
        "id": "Lwn2NfHAiafj",
        "colab_type": "code",
        "colab": {},
        "outputId": "9ca978bd-f700-4493-a6ab-78cf2d1cc699"
      },
      "source": [
        "from IPython.core.display import display, HTML\n",
        "display(HTML(\"<style>.container { width:90% !important; }</style>\"))\n",
        "\n",
        "from IPython.core.interactiveshell import InteractiveShell\n",
        "InteractiveShell.ast_node_interactivity = \"all\"#\"last_expr\" #all for debugging better\n",
        "\n",
        "pd.set_option('display.max_columns', None)\n",
        "pd.set_option('display.max_rows',None)\n",
        "\n",
        "import warnings\n",
        "warnings.filterwarnings(\"ignore\")"
      ],
      "execution_count": null,
      "outputs": [
        {
          "output_type": "display_data",
          "data": {
            "text/html": [
              "<style>.container { width:90% !important; }</style>"
            ],
            "text/plain": [
              "<IPython.core.display.HTML object>"
            ]
          },
          "metadata": {
            "tags": []
          }
        }
      ]
    },
    {
      "cell_type": "markdown",
      "metadata": {
        "id": "ENgo281Niafl",
        "colab_type": "text"
      },
      "source": [
        "### Get All Stats"
      ]
    },
    {
      "cell_type": "code",
      "metadata": {
        "code_folding": [],
        "id": "xp-5KFo_iafm",
        "colab_type": "code",
        "colab": {}
      },
      "source": [
        "# define input\n",
        "alphabet = 'A B C D E F G H I J K L M N O P Q R S T U V W X Y Z'.split(' ')\n",
        "FID = 0\n",
        "\n",
        "cols_history = ['Result','Fighter_1','Fighter_2','STR_1','STR_2','TD_1','TD_2','SUB_1','SUB_2','PASS_1','PASS_2','Event','Date','Method','Round','Time']\n",
        "cols_match = ['MID','FID','Result_F1','Event','Date','Method','Round','Time',                                         # before click\n",
        "              'Type','T_Format','Ref','Details',                                                             # after click\n",
        "              'Fighter_1','Fighter_2',\n",
        "              'KD_1','KD_2','SigStr_e_1','SigStr_t_1','SigStr_e_2','SigStr_t_2','TotStr_e_1','TotStr_t_1','TotStr_e_2','TotStr_t_2','TD_e_1','TD_t_1','TD_e_2','TD_t_2',\n",
        "              'SUB_1','SUB_2','PASS_1','PASS_2','REV_1','REV_2',\n",
        "              'Head_e_1','Head_t_1','Head_e_2','Head_t_2','Body_e_1','Body_t_1','Body_e_2','Body_t_2','Leg_e_1','Leg_t_1','Leg_e_2','Leg_t_2',\n",
        "              'Distance_e_1','Distance_t_1','Distance_e_2','Distance_t_2','Clinch_e_1','Clinch_t_1','Clinch_e_2','Clinch_t_2','Ground_e_1','Ground_t_1','Ground_e_2','Ground_t_2']\n",
        "cols_plan = ['FID','Fighter_1','Fighter_2']\n",
        "cols_all_fighters = ['FID','First','Last','Nick','HT','WT','Reach','Stance','W','L','D']\n",
        "cols_profile = ['FID','HT','WT','Reach','Stance','DOB']\n",
        "\n",
        "plan = pd.DataFrame(columns = cols_plan)\n",
        "plan_path = f'D:\\\\jasper\\\\98_general_projects\\\\03_UFC_Predictions\\\\Data\\\\{date}_Plan_List.csv'\n",
        "plan.to_csv(plan_path, mode = 'w',header = True, index=False)\n",
        "\n",
        "matches = pd.DataFrame(columns = cols_match)\n",
        "matches_path = f'D:\\\\jasper\\\\98_general_projects\\\\03_UFC_Predictions\\\\Data\\\\{date}_Matches_List.csv'\n",
        "matches.to_csv(matches_path, mode = 'w',header = True, index=False)\n",
        "\n",
        "fighters = pd.DataFrame(columns = cols_all_fighters)\n",
        "fighters_path = f'D:\\\\jasper\\\\98_general_projects\\\\03_UFC_Predictions\\\\Data\\\\{date}_Fighters_List.csv'\n",
        "fighters.to_csv(fighters_path, mode = 'w',header = True,index=False)\n",
        "\n",
        "profile = pd.DataFrame(columns = cols_profile)\n",
        "profile_path = f'D:\\\\jasper\\\\98_general_projects\\\\03_UFC_Predictions\\\\Data\\\\{date}_Profiles_List.csv'\n",
        "profile.to_csv(profile_path, mode = 'w',header = True,index=False)"
      ],
      "execution_count": null,
      "outputs": []
    },
    {
      "cell_type": "code",
      "metadata": {
        "code_folding": [
          0,
          14
        ],
        "id": "QoJe9dfHiafo",
        "colab_type": "code",
        "colab": {}
      },
      "source": [
        "def match_page(browser,Event,Date,Method,Roundn,Time,FID,cols_match):\n",
        "    MID = browser.current_url.split('/')[-1]\n",
        "    Result = browser.find_element_by_xpath(f'/html/body/section/div/div/div[1]/div[1]/i').text\n",
        "    Type = browser.find_element_by_xpath(f'/html/body/section/div/div/div[2]/div[1]/i').text\n",
        "    T_Format = browser.find_element_by_xpath(f'/html/body/section/div/div/div[2]/div[2]/p[1]/i[4]').text.replace('TIME FORMAT: ','')\n",
        "    try: Ref = browser.find_element_by_xpath(f'/html/body/section/div/div/div[2]/div[2]/p[1]/i[5]/span').text\n",
        "    except: Ref = None\n",
        "    Details = browser.find_element_by_xpath(f'/html/body/section/div/div/div[2]/div[2]/p[2]').text.replace('DETAILS: ','')\n",
        "    \n",
        "    try:    Fighter_1 = browser.find_element_by_xpath(f'/html/body/section/div/div/div[1]/div[1]/div/h3/a').text\n",
        "    except: Fighter_1 = browser.find_element_by_xpath(f'/html/body/section/div/div/div[1]/div[1]/div/h3/span').text\n",
        "    try:    Fighter_2 = browser.find_element_by_xpath(f'/html/body/section/div/div/div[1]/div[2]/div/h3/a').text\n",
        "    except: Fighter_2 = browser.find_element_by_xpath(f'/html/body/section/div/div/div[1]/div[2]/div/h3/span').text\n",
        "    \n",
        "    try: # get detailed significant strike infos\n",
        "        KD_1 = browser.find_element_by_xpath(f'/html/body/section/div/div/section[2]/table/tbody/tr/td[2]/p[1]').text\n",
        "        KD_2 = browser.find_element_by_xpath(f'/html/body/section/div/div/section[2]/table/tbody/tr/td[2]/p[2]').text\n",
        "\n",
        "        SigStr_e_1,SigStr_t_1 = browser.find_element_by_xpath(f'/html/body/section/div/div/section[2]/table/tbody/tr/td[3]/p[1]').text.split(' of ')\n",
        "        SigStr_e_2,SigStr_t_2 = browser.find_element_by_xpath(f'/html/body/section/div/div/section[2]/table/tbody/tr/td[3]/p[2]').text.split(' of ')\n",
        "\n",
        "        TotStr_e_1,TotStr_t_1 = browser.find_element_by_xpath(f'/html/body/section/div/div/section[2]/table/tbody/tr/td[5]/p[1]').text.split(' of ')\n",
        "        TotStr_e_2,TotStr_t_2 = browser.find_element_by_xpath(f'/html/body/section/div/div/section[2]/table/tbody/tr/td[5]/p[2]').text.split(' of ')\n",
        "\n",
        "        TD_e_1,TD_t_1 = browser.find_element_by_xpath(f'/html/body/section/div/div/section[2]/table/tbody/tr/td[6]/p[1]').text.split(' of ')\n",
        "        TD_e_2,TD_t_2 = browser.find_element_by_xpath(f'/html/body/section/div/div/section[2]/table/tbody/tr/td[6]/p[2]').text.split(' of ')\n",
        "\n",
        "        SUB_1 = browser.find_element_by_xpath(f'/html/body/section/div/div/section[2]/table/tbody/tr/td[8]/p[1]').text\n",
        "        SUB_2 = browser.find_element_by_xpath(f'/html/body/section/div/div/section[2]/table/tbody/tr/td[8]/p[2]').text\n",
        "        PASS_1 = browser.find_element_by_xpath(f'/html/body/section/div/div/section[2]/table/tbody/tr/td[9]/p[1]').text\n",
        "        PASS_2 = browser.find_element_by_xpath(f'/html/body/section/div/div/section[2]/table/tbody/tr/td[9]/p[2]').text\n",
        "        REV_1 = browser.find_element_by_xpath(f'/html/body/section/div/div/section[2]/table/tbody/tr/td[10]/p[1]').text\n",
        "        REV_2 = browser.find_element_by_xpath(f'/html/body/section/div/div/section[2]/table/tbody/tr/td[10]/p[2]').text\n",
        "\n",
        "        Head_e_1,Head_t_1 = browser.find_element_by_xpath(f'/html/body/section/div/div/table/tbody/tr/td[4]/p[1]').text.split(' of ')\n",
        "        Head_e_2,Head_t_2 = browser.find_element_by_xpath(f'/html/body/section/div/div/table/tbody/tr/td[4]/p[2]').text.split(' of ')\n",
        "\n",
        "        Body_e_1,Body_t_1 = browser.find_element_by_xpath(f'/html/body/section/div/div/table/tbody/tr/td[5]/p[1]').text.split(' of ')\n",
        "        Body_e_2,Body_t_2 = browser.find_element_by_xpath(f'/html/body/section/div/div/table/tbody/tr/td[5]/p[2]').text.split(' of ')\n",
        "\n",
        "        Leg_e_1,Leg_t_1 = browser.find_element_by_xpath(f'/html/body/section/div/div/table/tbody/tr/td[6]/p[1]').text.split(' of ')\n",
        "        Leg_e_2,Leg_t_2 = browser.find_element_by_xpath(f'/html/body/section/div/div/table/tbody/tr/td[6]/p[2]').text.split(' of ')\n",
        "\n",
        "        Distance_e_1,Distance_t_1 = browser.find_element_by_xpath(f'/html/body/section/div/div/table/tbody/tr/td[7]/p[1]').text.split(' of ')\n",
        "        Distance_e_2,Distance_t_2 = browser.find_element_by_xpath(f'/html/body/section/div/div/table/tbody/tr/td[7]/p[2]').text.split(' of ')\n",
        "\n",
        "        Clinch_e_1,Clinch_t_1 = browser.find_element_by_xpath(f'/html/body/section/div/div/table/tbody/tr/td[8]/p[1]').text.split(' of ')\n",
        "        Clinch_e_2,Clinch_t_2 = browser.find_element_by_xpath(f'/html/body/section/div/div/table/tbody/tr/td[8]/p[2]').text.split(' of ')\n",
        "\n",
        "        Ground_e_1,Ground_t_1 = browser.find_element_by_xpath(f'/html/body/section/div/div/table/tbody/tr/td[9]/p[1]').text.split(' of ')\n",
        "        Ground_e_2,Ground_t_2 = browser.find_element_by_xpath(f'/html/body/section/div/div/table/tbody/tr/td[9]/p[2]').text.split(' of ')\n",
        "\n",
        "    except:\n",
        "        KD_1,KD_2,SigStr_e_1,SigStr_t_1,SigStr_e_2,SigStr_t_2,TotStr_e_1,TotStr_t_1,TotStr_e_2,TotStr_t_2,TD_e_1,TD_t_1,TD_e_2,TD_t_2,\\\n",
        "                                      SUB_1,SUB_2,PASS_1,PASS_2,REV_1,REV_2,\\\n",
        "                                      Head_e_1,Head_t_1,Head_e_2,Head_t_2,Body_e_1,Body_t_1,Body_e_2,Body_t_2,Leg_e_1,Leg_t_1,Leg_e_2,Leg_t_2,\\\n",
        "                                      Distance_e_1,Distance_t_1,Distance_e_2,Distance_t_2,\\\n",
        "                                      Clinch_e_1,Clinch_t_1,Clinch_e_2,Clinch_t_2,Ground_e_1,Ground_t_1,Ground_e_2,Ground_t_2 = [None]*44\n",
        "        pass\n",
        "    \n",
        "    return pd.DataFrame([[MID,FID,Result,Event,Date,Method,Roundn,Time,\n",
        "                                          Type,T_Format,Ref,Details,\n",
        "                                          Fighter_1,Fighter_2,\n",
        "                                          KD_1,KD_2,SigStr_e_1,SigStr_t_1,SigStr_e_2,SigStr_t_2,TotStr_e_1,TotStr_t_1,TotStr_e_2,TotStr_t_2,TD_e_1,TD_t_1,TD_e_2,TD_t_2,\n",
        "                                          SUB_1,SUB_2,PASS_1,PASS_2,REV_1,REV_2,\n",
        "                                          Head_e_1,Head_t_1,Head_e_2,Head_t_2,Body_e_1,Body_t_1,Body_e_2,Body_t_2,Leg_e_1,Leg_t_1,Leg_e_2,Leg_t_2,\n",
        "                                          Distance_e_1,Distance_t_1,Distance_e_2,Distance_t_2,\n",
        "                                          Clinch_e_1,Clinch_t_1,Clinch_e_2,Clinch_t_2,Ground_e_1,Ground_t_1,Ground_e_2,Ground_t_2]], columns = cols_match)   "
      ],
      "execution_count": null,
      "outputs": []
    },
    {
      "cell_type": "code",
      "metadata": {
        "code_folding": [
          0
        ],
        "id": "NQKIejsJiafq",
        "colab_type": "code",
        "colab": {}
      },
      "source": [
        "def fighter_page(browser,j):\n",
        "    Event = browser.find_element_by_xpath(f'/html/body/section/div/div/table/tbody/tr[{j}]/td[7]/p[1]/a').text\n",
        "    Date = browser.find_element_by_xpath(f'/html/body/section/div/div/table/tbody/tr[{j}]/td[7]/p[2]').text\n",
        "    Method = browser.find_element_by_xpath(f'/html/body/section/div/div/table/tbody/tr[{j}]/td[8]/p[1]').text\n",
        "    Roundn = browser.find_element_by_xpath(f'/html/body/section/div/div/table/tbody/tr[{j}]/td[9]/p').text\n",
        "    Time = browser.find_element_by_xpath(f'/html/body/section/div/div/table/tbody/tr[{j}]/td[10]/p').text\n",
        "    \n",
        "    return Event,Date,Method,Roundn,Time"
      ],
      "execution_count": null,
      "outputs": []
    },
    {
      "cell_type": "code",
      "metadata": {
        "code_folding": [
          0
        ],
        "id": "6TMowUysiaft",
        "colab_type": "code",
        "colab": {}
      },
      "source": [
        "def fighter_profile(browser,FID,cols_profile):\n",
        "    height = browser.find_element_by_xpath(f'/html/body/section/div/div/div[1]/ul/li[1]').text.replace('HEIGHT: ','')\n",
        "    weight = browser.find_element_by_xpath(f'/html/body/section/div/div/div[1]/ul/li[2]').text.replace('WEIGHT: ','')\n",
        "    reach = browser.find_element_by_xpath(f'/html/body/section/div/div/div[1]/ul/li[3]').text.replace('REACH: ','')\n",
        "    stance = browser.find_element_by_xpath(f'/html/body/section/div/div/div[1]/ul/li[4]').text.replace('STANCE: ','')\n",
        "    dob = browser.find_element_by_xpath(f'/html/body/section/div/div/div[1]/ul/li[5]').text.replace('DOB: ','')\n",
        "    \n",
        "    profile = pd.DataFrame([[int(FID),height,weight,reach,stance,dob]],columns = cols_profile)\n",
        "    return profile"
      ],
      "execution_count": null,
      "outputs": []
    },
    {
      "cell_type": "code",
      "metadata": {
        "code_folding": [
          0
        ],
        "id": "jGpLChUDiafv",
        "colab_type": "code",
        "colab": {}
      },
      "source": [
        "def plan_page(browser, FID,cols_plan):\n",
        "    try:\n",
        "        Fighter_1 = browser.find_element_by_xpath(f'/html/body/section/div/div/div[1]/div[1]/div/h3/a').text\n",
        "        Fighter_2 = browser.find_element_by_xpath(f'/html/body/section/div/div/div[1]/div[2]/div/h3/a').text\n",
        "    except:\n",
        "        Fighter_1,Fighter_2 = 'Error','Error'\n",
        "        \n",
        "    return pd.DataFrame([[FID,Fighter_1,Fighter_2]], columns = cols_plan) "
      ],
      "execution_count": null,
      "outputs": []
    },
    {
      "cell_type": "code",
      "metadata": {
        "code_folding": [
          0
        ],
        "id": "yb-WS2Wniafx",
        "colab_type": "code",
        "colab": {}
      },
      "source": [
        "def all_fighters_page(browser,i, FID, cols_all_fighters):\n",
        "            First = browser.find_element_by_xpath(f'/html/body/section/div/div/div/table/tbody/tr[{i}]/td[1]/a').text\n",
        "            Last = browser.find_element_by_xpath(f'/html/body/section/div/div/div/table/tbody/tr[{i}]/td[2]/a').text\n",
        "            Nick = browser.find_element_by_xpath(f'/html/body/section/div/div/div/table/tbody/tr[{i}]/td[3]/a').text\n",
        "            HT = browser.find_element_by_xpath(f'/html/body/section/div/div/div/table/tbody/tr[{i}]/td[4]').text\n",
        "            WT = browser.find_element_by_xpath(f'/html/body/section/div/div/div/table/tbody/tr[{i}]/td[5]').text\n",
        "            Reach = browser.find_element_by_xpath(f'/html/body/section/div/div/div/table/tbody/tr[{i}]/td[6]').text\n",
        "            Stance = browser.find_element_by_xpath(f'/html/body/section/div/div/div/table/tbody/tr[{i}]/td[7]').text\n",
        "            W = browser.find_element_by_xpath(f'/html/body/section/div/div/div/table/tbody/tr[{i}]/td[8]').text\n",
        "            L = browser.find_element_by_xpath(f'/html/body/section/div/div/div/table/tbody/tr[{i}]/td[9]').text\n",
        "            D = browser.find_element_by_xpath(f'/html/body/section/div/div/div/table/tbody/tr[{i}]/td[10]').text\n",
        "\n",
        "            fighters = pd.DataFrame([[FID,First, Last, Nick, HT, WT, Reach, Stance, W, L, D]],columns = cols_all_fighters)\n",
        "\n",
        "            return fighters"
      ],
      "execution_count": null,
      "outputs": []
    },
    {
      "cell_type": "code",
      "metadata": {
        "code_folding": [
          0
        ],
        "id": "cvmemIbFiafz",
        "colab_type": "code",
        "colab": {}
      },
      "source": [
        "# total loop with all infor included\n",
        "from itertools import count\n",
        "time_lib.ctime()\n",
        "FID\n",
        "\n",
        "for letter in alphabet: # loop through starting letters A to Z\n",
        "    website = f'http://ufcstats.com/statistics/fighters?char={letter.lower()}&page=all'\n",
        "    browser.get(website)\n",
        "    \n",
        "    for i in count(2): # loop through list of fighters on page with starting letter\n",
        "        try: # get fighter stats\n",
        "            fighters = all_fighters_page(browser,i,FID,cols_all_fighters)\n",
        "            fighters.to_csv(fighters_path, mode = 'a+',header = False, index = False)\n",
        "        except: pass\n",
        "        \n",
        "        try:\n",
        "            browser.find_element_by_xpath(f'/html/body/section/div/div/div/table/tbody/tr[{i}]/td[1]/a').click()#;time.sleep(3)\n",
        "            try: \n",
        "                profile = fighter_profile(browser,FID,cols_profile)\n",
        "                profile.to_csv(profile_path, mode = 'a+', header = False, index = False)\n",
        "            except: pass\n",
        "            \n",
        "            for j in count(2): # loop through list of fights per fighter\n",
        "                try:\n",
        "                    if browser.find_element_by_xpath(f'/html/body/section/div/div/table/tbody/tr[{j}]/td[1]/p/a/i/i').text == 'NEXT':\n",
        "                        browser.find_element_by_xpath(f'/html/body/section/div/div/table/tbody/tr[{j}]/td[1]/p/a/i/i').click()#;time_lib.sleep(3) # go to plan page\n",
        "                        plan = plan_page(browser, FID,cols_plan)\n",
        "                        plan.to_csv(plan_path, mode = 'a+',header = False, index = False)\n",
        "                        browser.execute_script(\"window.history.go(-1)\");time_lib.sleep(0.5) # go back to fighter page\n",
        "                    \n",
        "                    else:\n",
        "                        Event,Date,Method,Roundn,Time = fighter_page(browser, j)\n",
        "\n",
        "                        browser.find_element_by_xpath(f'/html/body/section/div/div/table/tbody/tr[{j}]/td[1]/p/a/i/i').click()#;time_lib.sleep(3) # go to match page\n",
        "                        matches = match_page(browser,Event,Date,Method,Roundn,Time,FID,cols_match)\n",
        "                        matches.to_csv(matches_path, mode = 'a+',header = False, index = False)\n",
        "                        browser.execute_script(\"window.history.go(-1)\");time_lib.sleep(0.5) # go back to fighter page\n",
        "                \n",
        "                except: # end loop trough list of fights\n",
        "                    print(FID, 'completed with j:',j)\n",
        "                    FID += 1\n",
        "                    browser.execute_script(\"window.history.go(-1)\");time_lib.sleep(0.5) # go back to fighter list page            \n",
        "                    break\n",
        "                    \n",
        "        except: # end loop through list of fighers per starting letter\n",
        "            print(letter,'max i: ',i,' and time:',time_lib.ctime())\n",
        "            break"
      ],
      "execution_count": null,
      "outputs": []
    },
    {
      "cell_type": "code",
      "metadata": {
        "id": "LcpzHZs-iaf2",
        "colab_type": "code",
        "colab": {},
        "outputId": "05671ea4-99ec-4d9e-dede-c479a2114b1d"
      },
      "source": [
        "# total loop with all infor included\n",
        "from itertools import count\n",
        "time_lib.ctime()\n",
        "FID = 3364\n",
        "\n",
        "for letter in ['t']: # loop through starting letters A to Z\n",
        "    website = f'http://ufcstats.com/statistics/fighters?char={letter.lower()}&page=all'\n",
        "    browser.get(website)\n",
        "    \n",
        "    for i in count(80): # loop through list of fighters on page with starting letter\n",
        "        try: # get fighter stats\n",
        "            fighters = all_fighters_page(browser,i,FID,cols_all_fighters)\n",
        "            fighters.to_csv(fighters_path, mode = 'a+',header = False, index = False)\n",
        "        except: pass\n",
        "        \n",
        "        try:\n",
        "            browser.find_element_by_xpath(f'/html/body/section/div/div/div/table/tbody/tr[{i}]/td[1]/a').click()#;time.sleep(3)\n",
        "            try: \n",
        "                profile = fighter_profile(browser,FID,cols_profile)\n",
        "                profile.to_csv(profile_path, mode = 'a+', header = False, index = False)\n",
        "            except: pass\n",
        "            \n",
        "            for j in count(2): # loop through list of fights per fighter\n",
        "                try:\n",
        "                    if browser.find_element_by_xpath(f'/html/body/section/div/div/table/tbody/tr[{j}]/td[1]/p/a/i/i').text == 'NEXT':\n",
        "                        browser.find_element_by_xpath(f'/html/body/section/div/div/table/tbody/tr[{j}]/td[1]/p/a/i/i').click()#;time_lib.sleep(3) # go to plan page\n",
        "                        plan = plan_page(browser, FID,cols_plan)\n",
        "                        plan.to_csv(plan_path, mode = 'a+',header = False, index = False)\n",
        "                        browser.execute_script(\"window.history.go(-1)\");time_lib.sleep(0.5) # go back to fighter page\n",
        "                    \n",
        "                    else:\n",
        "                        Event,Date,Method,Roundn,Time = fighter_page(browser, j)\n",
        "\n",
        "                        browser.find_element_by_xpath(f'/html/body/section/div/div/table/tbody/tr[{j}]/td[1]/p/a/i/i').click()#;time_lib.sleep(3) # go to match page\n",
        "                        matches = match_page(browser,Event,Date,Method,Roundn,Time,FID,cols_match)\n",
        "                        matches.to_csv(matches_path, mode = 'a+',header = False, index = False)\n",
        "                        browser.execute_script(\"window.history.go(-1)\");time_lib.sleep(0.5) # go back to fighter page\n",
        "                \n",
        "                except: # end loop trough list of fights\n",
        "                    print(FID, 'completed with j:',j)\n",
        "                    FID += 1\n",
        "                    browser.execute_script(\"window.history.go(-1)\");time_lib.sleep(0.5) # go back to fighter list page            \n",
        "                    break\n",
        "                    \n",
        "        except: # end loop through list of fighers per starting letter\n",
        "            print(letter,'max i: ',i,' and time:',time_lib.ctime())\n",
        "            break"
      ],
      "execution_count": null,
      "outputs": [
        {
          "output_type": "execute_result",
          "data": {
            "text/plain": [
              "'Tue Mar 17 20:52:07 2020'"
            ]
          },
          "metadata": {
            "tags": []
          },
          "execution_count": 18
        },
        {
          "output_type": "execute_result",
          "data": {
            "text/plain": [
              "3364"
            ]
          },
          "metadata": {
            "tags": []
          },
          "execution_count": 18
        },
        {
          "output_type": "stream",
          "text": [
            "3364 completed with j: 18\n",
            "3365 completed with j: 2\n",
            "3366 completed with j: 6\n",
            "3367 completed with j: 6\n",
            "3368 completed with j: 3\n",
            "3369 completed with j: 3\n",
            "3370 completed with j: 3\n",
            "3371 completed with j: 4\n",
            "3372 completed with j: 14\n",
            "3373 completed with j: 4\n",
            "3374 completed with j: 3\n",
            "3375 completed with j: 13\n",
            "3376 completed with j: 3\n",
            "3377 completed with j: 2\n",
            "3378 completed with j: 4\n",
            "3379 completed with j: 2\n",
            "3380 completed with j: 5\n",
            "3381 completed with j: 5\n",
            "3382 completed with j: 3\n",
            "3383 completed with j: 4\n",
            "3384 completed with j: 4\n",
            "3385 completed with j: 6\n",
            "3386 completed with j: 5\n",
            "3387 completed with j: 2\n",
            "3388 completed with j: 15\n",
            "3389 completed with j: 23\n",
            "3390 completed with j: 2\n",
            "3391 completed with j: 5\n",
            "3392 completed with j: 2\n",
            "3393 completed with j: 6\n",
            "3394 completed with j: 3\n",
            "3395 completed with j: 3\n",
            "3396 completed with j: 13\n",
            "3397 completed with j: 4\n",
            "3398 completed with j: 6\n",
            "3399 completed with j: 11\n",
            "3400 completed with j: 6\n",
            "3401 completed with j: 5\n",
            "3402 completed with j: 3\n",
            "3403 completed with j: 2\n",
            "3404 completed with j: 8\n",
            "3405 completed with j: 8\n",
            "3406 completed with j: 3\n",
            "3407 completed with j: 10\n",
            "3408 completed with j: 2\n",
            "3409 completed with j: 4\n",
            "3410 completed with j: 3\n",
            "3411 completed with j: 6\n",
            "3412 completed with j: 2\n",
            "3413 completed with j: 12\n",
            "t max i:  130  and time: Tue Mar 17 21:12:11 2020\n"
          ],
          "name": "stdout"
        }
      ]
    },
    {
      "cell_type": "markdown",
      "metadata": {
        "id": "uqCjaZxWiaf4",
        "colab_type": "text"
      },
      "source": [
        "## Save Model"
      ]
    },
    {
      "cell_type": "code",
      "metadata": {
        "code_folding": [],
        "id": "ugoes1Beiaf4",
        "colab_type": "code",
        "colab": {}
      },
      "source": [
        "import os\n",
        "import subprocess\n",
        "import datetime"
      ],
      "execution_count": null,
      "outputs": []
    },
    {
      "cell_type": "code",
      "metadata": {
        "id": "kPH3rJYSiaf6",
        "colab_type": "code",
        "colab": {},
        "outputId": "5f2bcfb9-190a-4e88-e70f-880b738a0ec1"
      },
      "source": [
        "%%javascript\n",
        "IPython.notebook.save_notebook()"
      ],
      "execution_count": null,
      "outputs": [
        {
          "output_type": "display_data",
          "data": {
            "application/javascript": [
              "IPython.notebook.save_notebook()\n"
            ],
            "text/plain": [
              "<IPython.core.display.Javascript object>"
            ]
          },
          "metadata": {
            "tags": []
          }
        }
      ]
    },
    {
      "cell_type": "code",
      "metadata": {
        "code_folding": [],
        "id": "qVwTIDgbiaf9",
        "colab_type": "code",
        "colab": {}
      },
      "source": [
        "# Optional: Save Dataframe\n",
        "date = datetime.datetime.today().strftime('%Y-%m-%d')\n",
        "# try: df.to_csv(f'D:/jasper/03_stoyo/04_Data_Stoyo_2/CSV only videos/combined/{date}_all_clients_combined.csv')\n",
        "# except: pass"
      ],
      "execution_count": null,
      "outputs": []
    },
    {
      "cell_type": "code",
      "metadata": {
        "id": "3x6Vq1fqiaf_",
        "colab_type": "code",
        "colab": {},
        "outputId": "8b0a504c-f646-4002-b67e-153e6a1cb595"
      },
      "source": [
        "%notebook \"D:/jasper/98_general_projects/03_UFC_Predictions/Backup/ufcstats_scraper.ipynb\"  \n",
        "_ = subprocess.call(f'jupyter nbconvert ufcstats_scraper.ipynb --output D:\\\\jasper\\\\98_general_projects\\\\03_UFC_Predictions/Backup/{date}_ufcstats_scraper.html\"'); del _\n",
        "print('\\nFEIERABEND!!!')"
      ],
      "execution_count": null,
      "outputs": [
        {
          "output_type": "stream",
          "text": [
            "\n",
            "FEIERABEND!!!\n"
          ],
          "name": "stdout"
        }
      ]
    }
  ]
}